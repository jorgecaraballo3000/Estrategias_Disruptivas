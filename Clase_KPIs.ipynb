{
  "nbformat": 4,
  "nbformat_minor": 0,
  "metadata": {
    "colab": {
      "provenance": [],
      "include_colab_link": true
    },
    "kernelspec": {
      "name": "python3",
      "display_name": "Python 3"
    },
    "language_info": {
      "name": "python"
    }
  },
  "cells": [
    {
      "cell_type": "markdown",
      "metadata": {
        "id": "view-in-github",
        "colab_type": "text"
      },
      "source": [
        "<a href=\"https://colab.research.google.com/github/jorgecaraballo3000/Estrategias_Disruptivas/blob/main/Clase_KPIs.ipynb\" target=\"_parent\"><img src=\"https://colab.research.google.com/assets/colab-badge.svg\" alt=\"Open In Colab\"/></a>"
      ]
    },
    {
      "cell_type": "markdown",
      "source": [
        "# **Acción Amazon (AMZN) y Lockhead Martin Corporation (LMT)**"
      ],
      "metadata": {
        "id": "eI4f12LU13d2"
      }
    },
    {
      "cell_type": "code",
      "execution_count": null,
      "metadata": {
        "colab": {
          "base_uri": "https://localhost:8080/"
        },
        "id": "Mcu3t9aeSuqJ",
        "outputId": "eeba9feb-a112-4882-a56d-39c5ad0de5ea"
      },
      "outputs": [
        {
          "output_type": "stream",
          "name": "stdout",
          "text": [
            "Obteniendo datos financieros...\n",
            "Obteniendo datos para AMZN...\n",
            "Datos para AMZN obtenidos exitosamente\n",
            "Obteniendo datos para LMT...\n",
            "Datos para LMT obtenidos exitosamente\n",
            "\n",
            "DataFrame con KPIs financieros:\n",
            "  ticker                       nombre  precio_actual  rendimiento_diario   pe_ratio     market_cap\n",
            "0   AMZN             Amazon.com, Inc.     216.479996                1.61  33.000000  2308739956736\n",
            "1    LMT  Lockheed Martin Corporation     505.899994                2.17  28.373528   118109970432\n"
          ]
        }
      ],
      "source": [
        "import yfinance as yf\n",
        "import pandas as pd\n",
        "from datetime import datetime, timedelta\n",
        "import json\n",
        "\n",
        "def obtener_datos_financieros(tickers):\n",
        "    \"\"\"\n",
        "    Obtiene KPIs financieros y precios de rendimiento para una lista de tickers\n",
        "    \"\"\"\n",
        "    datos_financieros = []\n",
        "\n",
        "    for ticker in tickers:\n",
        "        try:\n",
        "            print(f\"Obteniendo datos para {ticker}...\")\n",
        "\n",
        "            # Descargar datos del ticker\n",
        "            stock = yf.Ticker(ticker)\n",
        "                        # Obtener información fundamental\n",
        "            info = stock.info\n",
        "\n",
        "            # Obtener datos históricos de precios (últimos 30 días)\n",
        "            historico = stock.history(period=\"1mo\")\n",
        "\n",
        "            # Calcular rendimientos\n",
        "            if not historico.empty and len(historico) > 1:\n",
        "                precio_actual = historico['Close'].iloc[-1]\n",
        "                precio_anterior = historico['Close'].iloc[-2]\n",
        "                rendimiento_diario = ((precio_actual - precio_anterior) / precio_anterior) * 100\n",
        "\n",
        "                # Rendimiento desde el inicio del período\n",
        "                precio_inicial = historico['Close'].iloc[0]\n",
        "                rendimiento_periodo = ((precio_actual - precio_inicial) / precio_inicial) * 100\n",
        "            else:\n",
        "                precio_actual = info.get('currentPrice', info.get('regularMarketPrice', 0))\n",
        "                rendimiento_diario = 0\n",
        "                rendimiento_periodo = 0\n",
        "            kpis = {\n",
        "                'ticker': ticker,\n",
        "                'nombre': info.get('longName', ticker),\n",
        "                'sector': info.get('sector', 'N/A'),\n",
        "                'industria': info.get('industry', 'N/A'),\n",
        "                'precio_actual': precio_actual,\n",
        "                'precio_apertura': historico['Open'].iloc[-1] if not historico.empty else precio_actual,\n",
        "                'maximo_dia': historico['High'].iloc[-1] if not historico.empty else precio_actual,\n",
        "                'minimo_dia': historico['Low'].iloc[-1] if not historico.empty else precio_actual,\n",
        "                'volumen': historico['Volume'].iloc[-1] if not historico.empty else 0,\n",
        "                'rendimiento_diario': round(rendimiento_diario, 2),\n",
        "                'rendimiento_periodo': round(rendimiento_periodo, 2),\n",
        "                'market_cap': info.get('marketCap', 0),\n",
        "                'pe_ratio': info.get('trailingPE', 0),\n",
        "                'forward_pe': info.get('forwardPE', 0),\n",
        "                'pb_ratio': info.get('priceToBook', 0),\n",
        "                'ps_ratio': info.get('priceToSalesTrailing12Months', 0),\n",
        "                'dividend_yield': info.get('dividendYield', 0),\n",
        "                'roe': info.get('returnOnEquity', 0),\n",
        "                'margen_beneficio': info.get('profitMargins', 0),\n",
        "                'beta': info.get('beta', 0),\n",
        "                                'fecha_actualizacion': datetime.now(),\n",
        "                'ultimo_cierre': historico['Close'].iloc[-1] if not historico.empty else precio_actual,\n",
        "                'fecha_datos': historico.index[-1] if not historico.empty else datetime.now()\n",
        "            }\n",
        "\n",
        "            datos_financieros.append(kpis)\n",
        "            print(f\"Datos para {ticker} obtenidos exitosamente\")\n",
        "\n",
        "        except Exception as e:\n",
        "            print(f\"Error obteniendo datos para {ticker}: {str(e)}\")\n",
        "            continue\n",
        "\n",
        "    return datos_financieros\n",
        "\n",
        "def crear_dataframe(datos):\n",
        "    \"\"\"\n",
        "    Convierte los datos en un DataFrame de pandas\n",
        "    \"\"\"\n",
        "    df = pd.DataFrame(datos)\n",
        "\n",
        "    # Formatear columnas numéricas\n",
        "    columnas_numericas = ['precio_actual', 'precio_apertura', 'maximo_dia', 'minimo_dia',\n",
        "                         'rendimiento_diario', 'rendimiento_periodo', 'pe_ratio', 'forward_pe',\n",
        "                         'pb_ratio', 'ps_ratio', 'dividend_yield', 'roe', 'margen_beneficio', 'beta']\n",
        "\n",
        "    for col in columnas_numericas:\n",
        "        if col in df.columns:\n",
        "            df[col] = pd.to_numeric(df[col], errors='coerce')\n",
        "\n",
        "    return df\n",
        "\n",
        "\n",
        "def main():\n",
        "    # Lista de tickers (puedes modificarla)\n",
        "    tickers = ['AMZN',\"LMT\"]\n",
        "\n",
        "    print(\"Obteniendo datos financieros...\")\n",
        "\n",
        "    # Obtener datos financieros\n",
        "    datos = obtener_datos_financieros(tickers)\n",
        "\n",
        "    if not datos:\n",
        "        print(\"No se pudieron obtener datos para ningún ticker\")\n",
        "        return\n",
        "\n",
        "    # Crear DataFrame\n",
        "    df = crear_dataframe(datos)\n",
        "\n",
        "    print(\"\\nDataFrame con KPIs financieros:\")\n",
        "    print(df[['ticker', 'nombre', 'precio_actual', 'rendimiento_diario', 'pe_ratio', 'market_cap']].to_string())\n",
        "\n",
        "    return df # Return the DataFrame\n",
        "\n",
        "\n",
        "if __name__ == \"__main__\":\n",
        "    main()"
      ]
    },
    {
      "cell_type": "code",
      "source": [],
      "metadata": {
        "id": "FOt1AtirWUh4"
      },
      "execution_count": null,
      "outputs": []
    },
    {
      "cell_type": "code",
      "metadata": {
        "colab": {
          "base_uri": "https://localhost:8080/"
        },
        "id": "b04f25c0",
        "outputId": "5e8e3c50-86a7-4bd6-fbd0-d93cfee1359e"
      },
      "source": [
        "# Call main function to create the DataFrame\n",
        "df = main()\n",
        "\n",
        "amzn_dict = df[df['ticker'] == 'AMZN'].iloc[0].to_dict()\n",
        "lmt_dict = df[df['ticker'] == 'LMT'].iloc[0].to_dict()\n",
        "\n",
        "print(\"Dictionary for AMZN:\")\n",
        "print(amzn_dict)\n",
        "\n",
        "print(\"\\nDictionary for LMT:\")\n",
        "print(lmt_dict)"
      ],
      "execution_count": null,
      "outputs": [
        {
          "output_type": "stream",
          "name": "stdout",
          "text": [
            "Obteniendo datos financieros...\n",
            "Obteniendo datos para AMZN...\n",
            "Datos para AMZN obtenidos exitosamente\n",
            "Obteniendo datos para LMT...\n",
            "Datos para LMT obtenidos exitosamente\n",
            "\n",
            "DataFrame con KPIs financieros:\n",
            "  ticker                       nombre  precio_actual  rendimiento_diario   pe_ratio     market_cap\n",
            "0   AMZN             Amazon.com, Inc.     216.479996                1.61  33.000000  2308739956736\n",
            "1    LMT  Lockheed Martin Corporation     505.899994                2.17  28.373528   118109970432\n",
            "Dictionary for AMZN:\n",
            "{'ticker': 'AMZN', 'nombre': 'Amazon.com, Inc.', 'sector': 'Consumer Cyclical', 'industria': 'Internet Retail', 'precio_actual': 216.47999572753906, 'precio_apertura': 213.8000030517578, 'maximo_dia': 216.64999389648438, 'minimo_dia': 213.58999633789062, 'volumen': 31946444, 'rendimiento_diario': 1.61, 'rendimiento_periodo': -4.9, 'market_cap': 2308739956736, 'pe_ratio': 33.0, 'forward_pe': 35.199997, 'pb_ratio': 6.9138637, 'ps_ratio': 3.445685, 'dividend_yield': 0.0, 'roe': 0.2477, 'margen_beneficio': 0.105399996, 'beta': 1.281, 'fecha_actualizacion': Timestamp('2025-10-20 22:50:38.350706'), 'ultimo_cierre': 216.47999572753906, 'fecha_datos': Timestamp('2025-10-20 00:00:00-0400', tz='America/New_York')}\n",
            "\n",
            "Dictionary for LMT:\n",
            "{'ticker': 'LMT', 'nombre': 'Lockheed Martin Corporation', 'sector': 'Industrials', 'industria': 'Aerospace & Defense', 'precio_actual': 505.8999938964844, 'precio_apertura': 496.42999267578125, 'maximo_dia': 505.8999938964844, 'minimo_dia': 496.42999267578125, 'volumen': 1239085, 'rendimiento_diario': 2.17, 'rendimiento_periodo': 5.31, 'market_cap': 118109970432, 'pe_ratio': 28.373528, 'forward_pe': 17.997154, 'pb_ratio': 22.004263, 'ps_ratio': 1.6439781, 'dividend_yield': 2.79, 'roe': 0.73056, 'margen_beneficio': 0.058520004, 'beta': 0.274, 'fecha_actualizacion': Timestamp('2025-10-20 22:50:38.561450'), 'ultimo_cierre': 505.8999938964844, 'fecha_datos': Timestamp('2025-10-20 00:00:00-0400', tz='America/New_York')}\n"
          ]
        }
      ]
    },
    {
      "cell_type": "code",
      "source": [
        "amzn_dict, lmt_dict"
      ],
      "metadata": {
        "colab": {
          "base_uri": "https://localhost:8080/"
        },
        "id": "iIR4geoUXZ5-",
        "outputId": "b879cbaf-b7c7-4cd0-dc7d-08c375d6b3e3"
      },
      "execution_count": null,
      "outputs": [
        {
          "output_type": "execute_result",
          "data": {
            "text/plain": [
              "({'ticker': 'AMZN',\n",
              "  'nombre': 'Amazon.com, Inc.',\n",
              "  'sector': 'Consumer Cyclical',\n",
              "  'industria': 'Internet Retail',\n",
              "  'precio_actual': 216.47999572753906,\n",
              "  'precio_apertura': 213.8000030517578,\n",
              "  'maximo_dia': 216.64999389648438,\n",
              "  'minimo_dia': 213.58999633789062,\n",
              "  'volumen': 31946444,\n",
              "  'rendimiento_diario': 1.61,\n",
              "  'rendimiento_periodo': -4.9,\n",
              "  'market_cap': 2308739956736,\n",
              "  'pe_ratio': 33.0,\n",
              "  'forward_pe': 35.199997,\n",
              "  'pb_ratio': 6.9138637,\n",
              "  'ps_ratio': 3.445685,\n",
              "  'dividend_yield': 0.0,\n",
              "  'roe': 0.2477,\n",
              "  'margen_beneficio': 0.105399996,\n",
              "  'beta': 1.281,\n",
              "  'fecha_actualizacion': Timestamp('2025-10-20 22:50:25.271617'),\n",
              "  'ultimo_cierre': 216.47999572753906,\n",
              "  'fecha_datos': Timestamp('2025-10-20 00:00:00-0400', tz='America/New_York')},\n",
              " {'ticker': 'BBB',\n",
              "  'nombre': 'CYBER HORNET S&P 500 and Bitcoin 75/25 Strategy ETF',\n",
              "  'sector': 'N/A',\n",
              "  'industria': 'N/A',\n",
              "  'precio_actual': 30.77560043334961,\n",
              "  'precio_apertura': 30.65999984741211,\n",
              "  'maximo_dia': 30.77560043334961,\n",
              "  'minimo_dia': 30.77560043334961,\n",
              "  'volumen': 740,\n",
              "  'rendimiento_diario': 1.79,\n",
              "  'rendimiento_periodo': 0.12,\n",
              "  'market_cap': 0,\n",
              "  'pe_ratio': 27.608065,\n",
              "  'forward_pe': 0.0,\n",
              "  'pb_ratio': 0.0,\n",
              "  'ps_ratio': 0.0,\n",
              "  'dividend_yield': 0,\n",
              "  'roe': 0.0,\n",
              "  'margen_beneficio': 0.0,\n",
              "  'beta': 0.0,\n",
              "  'fecha_actualizacion': Timestamp('2025-10-20 22:49:02.276389'),\n",
              "  'ultimo_cierre': 30.77560043334961,\n",
              "  'fecha_datos': Timestamp('2025-10-20 00:00:00-0400', tz='America/New_York')})"
            ]
          },
          "metadata": {},
          "execution_count": 11
        }
      ]
    },
    {
      "cell_type": "code",
      "source": [],
      "metadata": {
        "id": "BQundjma0bZT"
      },
      "execution_count": null,
      "outputs": []
    },
    {
      "cell_type": "markdown",
      "source": [
        "# **Acción de Tiendas Tres B (BBB) y Grupo Bimbo (BIMBOA.MX)**"
      ],
      "metadata": {
        "id": "N93Sf6Xo0pF8"
      }
    },
    {
      "cell_type": "code",
      "execution_count": null,
      "metadata": {
        "colab": {
          "base_uri": "https://localhost:8080/"
        },
        "outputId": "f21caa05-7380-4c58-d972-6cabb6f3ed81",
        "id": "_USXYTf10ckR"
      },
      "outputs": [
        {
          "output_type": "stream",
          "name": "stdout",
          "text": [
            "Obteniendo datos financieros...\n",
            "Obteniendo datos para BIMBOA.MX...\n",
            "Datos para BIMBOA.MX obtenidos exitosamente\n",
            "Obteniendo datos para TBBB...\n",
            "Datos para TBBB obtenidos exitosamente\n",
            "\n",
            "DataFrame con KPIs financieros:\n",
            "      ticker                       nombre  precio_actual  rendimiento_diario  pe_ratio    market_cap\n",
            "0  BIMBOA.MX  Grupo Bimbo, S.A.B. de C.V.          62.66                0.82  23.29368  269735247872\n",
            "1       TBBB               BBB Foods Inc.          28.60                5.93   0.00000    3282330880\n"
          ]
        }
      ],
      "source": [
        "import yfinance as yf\n",
        "import pandas as pd\n",
        "from datetime import datetime, timedelta\n",
        "import json\n",
        "\n",
        "def obtener_datos_financieros(tickers):\n",
        "    \"\"\"\n",
        "    Obtiene KPIs financieros y precios de rendimiento para una lista de tickers\n",
        "    \"\"\"\n",
        "    datos_financieros = []\n",
        "\n",
        "    for ticker in tickers:\n",
        "        try:\n",
        "            print(f\"Obteniendo datos para {ticker}...\")\n",
        "\n",
        "            # Descargar datos del ticker\n",
        "            stock = yf.Ticker(ticker)\n",
        "                        # Obtener información fundamental\n",
        "            info = stock.info\n",
        "\n",
        "            # Obtener datos históricos de precios (últimos 30 días)\n",
        "            historico = stock.history(period=\"1mo\")\n",
        "\n",
        "            # Calcular rendimientos\n",
        "            if not historico.empty and len(historico) > 1:\n",
        "                precio_actual = historico['Close'].iloc[-1]\n",
        "                precio_anterior = historico['Close'].iloc[-2]\n",
        "                rendimiento_diario = ((precio_actual - precio_anterior) / precio_anterior) * 100\n",
        "\n",
        "                # Rendimiento desde el inicio del período\n",
        "                precio_inicial = historico['Close'].iloc[0]\n",
        "                rendimiento_periodo = ((precio_actual - precio_inicial) / precio_inicial) * 100\n",
        "            else:\n",
        "                precio_actual = info.get('currentPrice', info.get('regularMarketPrice', 0))\n",
        "                rendimiento_diario = 0\n",
        "                rendimiento_periodo = 0\n",
        "            kpis = {\n",
        "                'ticker': ticker,\n",
        "                'nombre': info.get('longName', ticker),\n",
        "                'sector': info.get('sector', 'N/A'),\n",
        "                'industria': info.get('industry', 'N/A'),\n",
        "                'precio_actual': precio_actual,\n",
        "                'precio_apertura': historico['Open'].iloc[-1] if not historico.empty else precio_actual,\n",
        "                'maximo_dia': historico['High'].iloc[-1] if not historico.empty else precio_actual,\n",
        "                'minimo_dia': historico['Low'].iloc[-1] if not historico.empty else precio_actual,\n",
        "                'volumen': historico['Volume'].iloc[-1] if not historico.empty else 0,\n",
        "                'rendimiento_diario': round(rendimiento_diario, 2),\n",
        "                'rendimiento_periodo': round(rendimiento_periodo, 2),\n",
        "                'market_cap': info.get('marketCap', 0),\n",
        "                'pe_ratio': info.get('trailingPE', 0),\n",
        "                'forward_pe': info.get('forwardPE', 0),\n",
        "                'pb_ratio': info.get('priceToBook', 0),\n",
        "                'ps_ratio': info.get('priceToSalesTrailing12Months', 0),\n",
        "                'dividend_yield': info.get('dividendYield', 0),\n",
        "                'roe': info.get('returnOnEquity', 0),\n",
        "                'margen_beneficio': info.get('profitMargins', 0),\n",
        "                'beta': info.get('beta', 0),\n",
        "                                'fecha_actualizacion': datetime.now(),\n",
        "                'ultimo_cierre': historico['Close'].iloc[-1] if not historico.empty else precio_actual,\n",
        "                'fecha_datos': historico.index[-1] if not historico.empty else datetime.now()\n",
        "            }\n",
        "\n",
        "            datos_financieros.append(kpis)\n",
        "            print(f\"Datos para {ticker} obtenidos exitosamente\")\n",
        "\n",
        "        except Exception as e:\n",
        "            print(f\"Error obteniendo datos para {ticker}: {str(e)}\")\n",
        "            continue\n",
        "\n",
        "    return datos_financieros\n",
        "\n",
        "def crear_dataframe(datos):\n",
        "    \"\"\"\n",
        "    Convierte los datos en un DataFrame de pandas\n",
        "    \"\"\"\n",
        "    df = pd.DataFrame(datos)\n",
        "\n",
        "    # Formatear columnas numéricas\n",
        "    columnas_numericas = ['precio_actual', 'precio_apertura', 'maximo_dia', 'minimo_dia',\n",
        "                         'rendimiento_diario', 'rendimiento_periodo', 'pe_ratio', 'forward_pe',\n",
        "                         'pb_ratio', 'ps_ratio', 'dividend_yield', 'roe', 'margen_beneficio', 'beta']\n",
        "\n",
        "    for col in columnas_numericas:\n",
        "        if col in df.columns:\n",
        "            df[col] = pd.to_numeric(df[col], errors='coerce')\n",
        "\n",
        "    return df\n",
        "\n",
        "\n",
        "def main():\n",
        "    # Lista de tickers (puedes modificarla)\n",
        "    tickers = ['BIMBOA.MX',\"TBBB\"]\n",
        "\n",
        "    print(\"Obteniendo datos financieros...\")\n",
        "\n",
        "    # Obtener datos financieros\n",
        "    datos = obtener_datos_financieros(tickers)\n",
        "\n",
        "    if not datos:\n",
        "        print(\"No se pudieron obtener datos para ningún ticker\")\n",
        "        return\n",
        "\n",
        "    # Crear DataFrame\n",
        "    df = crear_dataframe(datos)\n",
        "\n",
        "    print(\"\\nDataFrame con KPIs financieros:\")\n",
        "    print(df[['ticker', 'nombre', 'precio_actual', 'rendimiento_diario', 'pe_ratio', 'market_cap']].to_string())\n",
        "\n",
        "    return df # Return the DataFrame\n",
        "\n",
        "\n",
        "if __name__ == \"__main__\":\n",
        "    main()"
      ]
    },
    {
      "cell_type": "code",
      "source": [],
      "metadata": {
        "id": "KIYyvy_K05tR"
      },
      "execution_count": null,
      "outputs": []
    },
    {
      "cell_type": "code",
      "metadata": {
        "colab": {
          "base_uri": "https://localhost:8080/"
        },
        "outputId": "869700e2-35a0-4c5a-9269-3e46a5707a5a",
        "id": "Nygr9fRK06C8"
      },
      "source": [
        "# Call main function to create the DataFrame\n",
        "df = main()\n",
        "\n",
        "bimboamx_dict = df[df['ticker'] == 'BIMBOA.MX'].iloc[0].to_dict()\n",
        "tbbb_dict = df[df['ticker'] == 'TBBB'].iloc[0].to_dict()\n",
        "\n",
        "print(\"Dictionary for BIMBOA.MX:\")\n",
        "print(bimboamx_dict)\n",
        "\n",
        "print(\"\\nDictionary for TBBB:\")\n",
        "print(tbbb_dict)"
      ],
      "execution_count": null,
      "outputs": [
        {
          "output_type": "stream",
          "name": "stdout",
          "text": [
            "Obteniendo datos financieros...\n",
            "Obteniendo datos para BIMBOA.MX...\n",
            "Datos para BIMBOA.MX obtenidos exitosamente\n",
            "Obteniendo datos para TBBB...\n",
            "Datos para TBBB obtenidos exitosamente\n",
            "\n",
            "DataFrame con KPIs financieros:\n",
            "      ticker                       nombre  precio_actual  rendimiento_diario  pe_ratio    market_cap\n",
            "0  BIMBOA.MX  Grupo Bimbo, S.A.B. de C.V.          62.66                0.82  23.29368  269735247872\n",
            "1       TBBB               BBB Foods Inc.          28.60                5.93   0.00000    3282330880\n",
            "Dictionary for BIMBOA.MX:\n",
            "{'ticker': 'BIMBOA.MX', 'nombre': 'Grupo Bimbo, S.A.B. de C.V.', 'sector': 'Consumer Defensive', 'industria': 'Packaged Foods', 'precio_actual': 62.65999984741211, 'precio_apertura': 62.04999923706055, 'maximo_dia': 62.79999923706055, 'minimo_dia': 60.72999954223633, 'volumen': 1164620, 'rendimiento_diario': 0.82, 'rendimiento_periodo': -3.18, 'market_cap': 269735247872, 'pe_ratio': 23.29368, 'forward_pe': 16.360313, 'pb_ratio': 2.2746577, 'ps_ratio': 0.6309765, 'dividend_yield': 1.61, 'roe': 0.112749994, 'margen_beneficio': 0.02671, 'beta': 0.299, 'fecha_actualizacion': Timestamp('2025-10-20 23:09:43.361192'), 'ultimo_cierre': 62.65999984741211, 'fecha_datos': Timestamp('2025-10-20 00:00:00-0600', tz='America/Mexico_City')}\n",
            "\n",
            "Dictionary for TBBB:\n",
            "{'ticker': 'TBBB', 'nombre': 'BBB Foods Inc.', 'sector': 'Consumer Defensive', 'industria': 'Discount Stores', 'precio_actual': 28.600000381469727, 'precio_apertura': 27.040000915527344, 'maximo_dia': 28.625, 'minimo_dia': 26.684999465942383, 'volumen': 560681, 'rendimiento_diario': 5.93, 'rendimiento_periodo': 10.64, 'market_cap': 3282330880, 'pe_ratio': 0.0, 'forward_pe': 75.26316, 'pb_ratio': 0.7952618, 'ps_ratio': 0.04893021, 'dividend_yield': 0.0, 'roe': -0.036229998, 'margen_beneficio': -0.00207, 'beta': 0.0, 'fecha_actualizacion': Timestamp('2025-10-20 23:09:43.508118'), 'ultimo_cierre': 28.600000381469727, 'fecha_datos': Timestamp('2025-10-20 00:00:00-0400', tz='America/New_York')}\n"
          ]
        }
      ]
    },
    {
      "cell_type": "code",
      "source": [
        "bimboamx_dict, tbbb_dict"
      ],
      "metadata": {
        "colab": {
          "base_uri": "https://localhost:8080/"
        },
        "id": "zDbaPXs21qme",
        "outputId": "eb1c36d6-5d69-4cb9-fb5b-9ab1400f9f16"
      },
      "execution_count": null,
      "outputs": [
        {
          "output_type": "execute_result",
          "data": {
            "text/plain": [
              "({'ticker': 'BIMBOA.MX',\n",
              "  'nombre': 'Grupo Bimbo, S.A.B. de C.V.',\n",
              "  'sector': 'Consumer Defensive',\n",
              "  'industria': 'Packaged Foods',\n",
              "  'precio_actual': 62.65999984741211,\n",
              "  'precio_apertura': 62.04999923706055,\n",
              "  'maximo_dia': 62.79999923706055,\n",
              "  'minimo_dia': 60.72999954223633,\n",
              "  'volumen': 1164620,\n",
              "  'rendimiento_diario': 0.82,\n",
              "  'rendimiento_periodo': -3.18,\n",
              "  'market_cap': 269735247872,\n",
              "  'pe_ratio': 23.29368,\n",
              "  'forward_pe': 16.360313,\n",
              "  'pb_ratio': 2.2746577,\n",
              "  'ps_ratio': 0.6309765,\n",
              "  'dividend_yield': 1.61,\n",
              "  'roe': 0.112749994,\n",
              "  'margen_beneficio': 0.02671,\n",
              "  'beta': 0.299,\n",
              "  'fecha_actualizacion': Timestamp('2025-10-20 23:09:43.361192'),\n",
              "  'ultimo_cierre': 62.65999984741211,\n",
              "  'fecha_datos': Timestamp('2025-10-20 00:00:00-0600', tz='America/Mexico_City')},\n",
              " {'ticker': 'TBBB',\n",
              "  'nombre': 'BBB Foods Inc.',\n",
              "  'sector': 'Consumer Defensive',\n",
              "  'industria': 'Discount Stores',\n",
              "  'precio_actual': 28.600000381469727,\n",
              "  'precio_apertura': 27.040000915527344,\n",
              "  'maximo_dia': 28.625,\n",
              "  'minimo_dia': 26.684999465942383,\n",
              "  'volumen': 560681,\n",
              "  'rendimiento_diario': 5.93,\n",
              "  'rendimiento_periodo': 10.64,\n",
              "  'market_cap': 3282330880,\n",
              "  'pe_ratio': 0.0,\n",
              "  'forward_pe': 75.26316,\n",
              "  'pb_ratio': 0.7952618,\n",
              "  'ps_ratio': 0.04893021,\n",
              "  'dividend_yield': 0.0,\n",
              "  'roe': -0.036229998,\n",
              "  'margen_beneficio': -0.00207,\n",
              "  'beta': 0.0,\n",
              "  'fecha_actualizacion': Timestamp('2025-10-20 23:09:43.508118'),\n",
              "  'ultimo_cierre': 28.600000381469727,\n",
              "  'fecha_datos': Timestamp('2025-10-20 00:00:00-0400', tz='America/New_York')})"
            ]
          },
          "metadata": {},
          "execution_count": 33
        }
      ]
    },
    {
      "cell_type": "code",
      "source": [],
      "metadata": {
        "id": "VmFsoodB1tEA"
      },
      "execution_count": null,
      "outputs": []
    }
  ]
}