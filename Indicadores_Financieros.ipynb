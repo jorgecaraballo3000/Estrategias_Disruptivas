{
  "nbformat": 4,
  "nbformat_minor": 0,
  "metadata": {
    "colab": {
      "provenance": [],
      "include_colab_link": true
    },
    "kernelspec": {
      "name": "python3",
      "display_name": "Python 3"
    },
    "language_info": {
      "name": "python"
    }
  },
  "cells": [
    {
      "cell_type": "markdown",
      "metadata": {
        "id": "view-in-github",
        "colab_type": "text"
      },
      "source": [
        "<a href=\"https://colab.research.google.com/github/jorgecaraballo3000/Estrategias_Disruptivas/blob/main/Indicadores_Financieros.ipynb\" target=\"_parent\"><img src=\"https://colab.research.google.com/assets/colab-badge.svg\" alt=\"Open In Colab\"/></a>"
      ]
    },
    {
      "cell_type": "code",
      "source": [
        "#@title KPI's Financieros en Fórmulas Matemáticas (LaTeX) con Espaciado Limpio\n",
        "\n",
        "from IPython.display import display, Math, Latex\n",
        "\n",
        "# Rentabilidad\n",
        "formulas_rentabilidad = [\n",
        "    r\"Margen\\ Bruto = \\frac{Utilidad\\ Bruta}{Ventas} \\times 100\",\n",
        "    r\"Margen\\ Operativo = \\frac{Utilidad\\ Operativa}{Ventas} \\times 100\",\n",
        "    r\"Margen\\ Neto = \\frac{Utilidad\\ Neta}{Ventas} \\times 100\",\n",
        "    r\"ROA = \\frac{Utilidad\\ Neta}{Activos\\ Totales}\",\n",
        "    r\"ROE = \\frac{Utilidad\\ Neta}{Patrimonio}\"\n",
        "]\n",
        "\n",
        "# Liquidez\n",
        "formulas_liquidez = [\n",
        "    r\"Razón\\ Corriente = \\frac{Activos\\ Corrientes}{Pasivos\\ Corrientes}\",\n",
        "    r\"Prueba\\ Ácida = \\frac{Activos\\ Corrientes - Inventarios}{Pasivos\\ Corrientes}\",\n",
        "    r\"Capital\\ de\\ Trabajo = Activos\\ Corrientes - Pasivos\\ Corrientes\"\n",
        "]\n",
        "\n",
        "# Endeudamiento\n",
        "formulas_endeudamiento = [\n",
        "    r\"Razón\\ de\\ Endeudamiento = \\frac{Pasivo\\ Total}{Activo\\ Total}\",\n",
        "    r\"Deuda\\ a\\ Patrimonio = \\frac{Pasivo\\ Total}{Patrimonio}\",\n",
        "    r\"Cobertura\\ de\\ Intereses = \\frac{Utilidad\\ Operativa}{Gastos\\ Financieros}\"\n",
        "]\n",
        "\n",
        "# Eficiencia\n",
        "formulas_eficiencia = [\n",
        "    r\"Rotación\\ de\\ Inventarios = \\frac{Costo\\ de\\ Ventas}{Inventario\\ Promedio}\",\n",
        "    r\"Periodo\\ Promedio\\ de\\ Cobro\\ (DSO) = \\frac{Cuentas\\ por\\ Cobrar}{Ventas\\ a\\ Crédito} \\times 365\",\n",
        "    r\"Periodo\\ Promedio\\ de\\ Pago\\ (DPO) = \\frac{Cuentas\\ por\\ Pagar}{Compras\\ a\\ Crédito} \\times 365\",\n",
        "    r\"Ciclo\\ de\\ Conversión\\ de\\ Efectivo = Días\\ Inventario + Días\\ Cobro - Días\\ Pago\"\n",
        "]\n",
        "\n",
        "# Crecimiento\n",
        "formulas_crecimiento = [\n",
        "    r\"Crecimiento\\ en\\ Ventas = \\frac{Ventas_{actual} - Ventas_{anterior}}{Ventas_{anterior}} \\times 100\",\n",
        "    r\"Crecimiento\\ en\\ Utilidad\\ Neta = \\frac{U_{actual} - U_{anterior}}{U_{anterior}} \\times 100\"\n",
        "]\n",
        "\n",
        "# Mostrar en Colab con títulos y espaciado\n",
        "secciones = {\n",
        "    \"📊 Rentabilidad\": formulas_rentabilidad,\n",
        "    \"💧 Liquidez\": formulas_liquidez,\n",
        "    \"📉 Endeudamiento\": formulas_endeudamiento,\n",
        "    \"⚡ Eficiencia\": formulas_eficiencia,\n",
        "    \"📈 Crecimiento\": formulas_crecimiento\n",
        "}\n",
        "\n",
        "for titulo, formulas in secciones.items():\n",
        "    display(Latex(r\"\\\\[12pt]\"))  # Espacio antes del título\n",
        "    display(Latex(r\"\\textbf{\" + titulo + \"}\"))  # Título en negritas\n",
        "    display(Latex(r\"\\\\[6pt]\"))  # Espacio después del título\n",
        "    for f in formulas:\n",
        "        display(Math(f))\n",
        "        display(Latex(r\"\\\\[10pt]\"))  # Espacio entre fórmulas\n"
      ],
      "metadata": {
        "colab": {
          "base_uri": "https://localhost:8080/",
          "height": 1000
        },
        "id": "CFUhjRTHdJgF",
        "outputId": "596ef593-99b5-44aa-8893-a11658fa654e"
      },
      "execution_count": null,
      "outputs": [
        {
          "output_type": "display_data",
          "data": {
            "text/plain": [
              "<IPython.core.display.Latex object>"
            ],
            "text/latex": "\\\\[12pt]"
          },
          "metadata": {}
        },
        {
          "output_type": "display_data",
          "data": {
            "text/plain": [
              "<IPython.core.display.Latex object>"
            ],
            "text/latex": "\\textbf{📊 Rentabilidad}"
          },
          "metadata": {}
        },
        {
          "output_type": "display_data",
          "data": {
            "text/plain": [
              "<IPython.core.display.Latex object>"
            ],
            "text/latex": "\\\\[6pt]"
          },
          "metadata": {}
        },
        {
          "output_type": "display_data",
          "data": {
            "text/plain": [
              "<IPython.core.display.Math object>"
            ],
            "text/latex": "$\\displaystyle Margen\\ Bruto = \\frac{Utilidad\\ Bruta}{Ventas} \\times 100$"
          },
          "metadata": {}
        },
        {
          "output_type": "display_data",
          "data": {
            "text/plain": [
              "<IPython.core.display.Latex object>"
            ],
            "text/latex": "\\\\[10pt]"
          },
          "metadata": {}
        },
        {
          "output_type": "display_data",
          "data": {
            "text/plain": [
              "<IPython.core.display.Math object>"
            ],
            "text/latex": "$\\displaystyle Margen\\ Operativo = \\frac{Utilidad\\ Operativa}{Ventas} \\times 100$"
          },
          "metadata": {}
        },
        {
          "output_type": "display_data",
          "data": {
            "text/plain": [
              "<IPython.core.display.Latex object>"
            ],
            "text/latex": "\\\\[10pt]"
          },
          "metadata": {}
        },
        {
          "output_type": "display_data",
          "data": {
            "text/plain": [
              "<IPython.core.display.Math object>"
            ],
            "text/latex": "$\\displaystyle Margen\\ Neto = \\frac{Utilidad\\ Neta}{Ventas} \\times 100$"
          },
          "metadata": {}
        },
        {
          "output_type": "display_data",
          "data": {
            "text/plain": [
              "<IPython.core.display.Latex object>"
            ],
            "text/latex": "\\\\[10pt]"
          },
          "metadata": {}
        },
        {
          "output_type": "display_data",
          "data": {
            "text/plain": [
              "<IPython.core.display.Math object>"
            ],
            "text/latex": "$\\displaystyle ROA = \\frac{Utilidad\\ Neta}{Activos\\ Totales}$"
          },
          "metadata": {}
        },
        {
          "output_type": "display_data",
          "data": {
            "text/plain": [
              "<IPython.core.display.Latex object>"
            ],
            "text/latex": "\\\\[10pt]"
          },
          "metadata": {}
        },
        {
          "output_type": "display_data",
          "data": {
            "text/plain": [
              "<IPython.core.display.Math object>"
            ],
            "text/latex": "$\\displaystyle ROE = \\frac{Utilidad\\ Neta}{Patrimonio}$"
          },
          "metadata": {}
        },
        {
          "output_type": "display_data",
          "data": {
            "text/plain": [
              "<IPython.core.display.Latex object>"
            ],
            "text/latex": "\\\\[10pt]"
          },
          "metadata": {}
        },
        {
          "output_type": "display_data",
          "data": {
            "text/plain": [
              "<IPython.core.display.Latex object>"
            ],
            "text/latex": "\\\\[12pt]"
          },
          "metadata": {}
        },
        {
          "output_type": "display_data",
          "data": {
            "text/plain": [
              "<IPython.core.display.Latex object>"
            ],
            "text/latex": "\\textbf{💧 Liquidez}"
          },
          "metadata": {}
        },
        {
          "output_type": "display_data",
          "data": {
            "text/plain": [
              "<IPython.core.display.Latex object>"
            ],
            "text/latex": "\\\\[6pt]"
          },
          "metadata": {}
        },
        {
          "output_type": "display_data",
          "data": {
            "text/plain": [
              "<IPython.core.display.Math object>"
            ],
            "text/latex": "$\\displaystyle Razón\\ Corriente = \\frac{Activos\\ Corrientes}{Pasivos\\ Corrientes}$"
          },
          "metadata": {}
        },
        {
          "output_type": "display_data",
          "data": {
            "text/plain": [
              "<IPython.core.display.Latex object>"
            ],
            "text/latex": "\\\\[10pt]"
          },
          "metadata": {}
        },
        {
          "output_type": "display_data",
          "data": {
            "text/plain": [
              "<IPython.core.display.Math object>"
            ],
            "text/latex": "$\\displaystyle Prueba\\ Ácida = \\frac{Activos\\ Corrientes - Inventarios}{Pasivos\\ Corrientes}$"
          },
          "metadata": {}
        },
        {
          "output_type": "display_data",
          "data": {
            "text/plain": [
              "<IPython.core.display.Latex object>"
            ],
            "text/latex": "\\\\[10pt]"
          },
          "metadata": {}
        },
        {
          "output_type": "display_data",
          "data": {
            "text/plain": [
              "<IPython.core.display.Math object>"
            ],
            "text/latex": "$\\displaystyle Capital\\ de\\ Trabajo = Activos\\ Corrientes - Pasivos\\ Corrientes$"
          },
          "metadata": {}
        },
        {
          "output_type": "display_data",
          "data": {
            "text/plain": [
              "<IPython.core.display.Latex object>"
            ],
            "text/latex": "\\\\[10pt]"
          },
          "metadata": {}
        },
        {
          "output_type": "display_data",
          "data": {
            "text/plain": [
              "<IPython.core.display.Latex object>"
            ],
            "text/latex": "\\\\[12pt]"
          },
          "metadata": {}
        },
        {
          "output_type": "display_data",
          "data": {
            "text/plain": [
              "<IPython.core.display.Latex object>"
            ],
            "text/latex": "\\textbf{📉 Endeudamiento}"
          },
          "metadata": {}
        },
        {
          "output_type": "display_data",
          "data": {
            "text/plain": [
              "<IPython.core.display.Latex object>"
            ],
            "text/latex": "\\\\[6pt]"
          },
          "metadata": {}
        },
        {
          "output_type": "display_data",
          "data": {
            "text/plain": [
              "<IPython.core.display.Math object>"
            ],
            "text/latex": "$\\displaystyle Razón\\ de\\ Endeudamiento = \\frac{Pasivo\\ Total}{Activo\\ Total}$"
          },
          "metadata": {}
        },
        {
          "output_type": "display_data",
          "data": {
            "text/plain": [
              "<IPython.core.display.Latex object>"
            ],
            "text/latex": "\\\\[10pt]"
          },
          "metadata": {}
        },
        {
          "output_type": "display_data",
          "data": {
            "text/plain": [
              "<IPython.core.display.Math object>"
            ],
            "text/latex": "$\\displaystyle Deuda\\ a\\ Patrimonio = \\frac{Pasivo\\ Total}{Patrimonio}$"
          },
          "metadata": {}
        },
        {
          "output_type": "display_data",
          "data": {
            "text/plain": [
              "<IPython.core.display.Latex object>"
            ],
            "text/latex": "\\\\[10pt]"
          },
          "metadata": {}
        },
        {
          "output_type": "display_data",
          "data": {
            "text/plain": [
              "<IPython.core.display.Math object>"
            ],
            "text/latex": "$\\displaystyle Cobertura\\ de\\ Intereses = \\frac{Utilidad\\ Operativa}{Gastos\\ Financieros}$"
          },
          "metadata": {}
        },
        {
          "output_type": "display_data",
          "data": {
            "text/plain": [
              "<IPython.core.display.Latex object>"
            ],
            "text/latex": "\\\\[10pt]"
          },
          "metadata": {}
        },
        {
          "output_type": "display_data",
          "data": {
            "text/plain": [
              "<IPython.core.display.Latex object>"
            ],
            "text/latex": "\\\\[12pt]"
          },
          "metadata": {}
        },
        {
          "output_type": "display_data",
          "data": {
            "text/plain": [
              "<IPython.core.display.Latex object>"
            ],
            "text/latex": "\\textbf{⚡ Eficiencia}"
          },
          "metadata": {}
        },
        {
          "output_type": "display_data",
          "data": {
            "text/plain": [
              "<IPython.core.display.Latex object>"
            ],
            "text/latex": "\\\\[6pt]"
          },
          "metadata": {}
        },
        {
          "output_type": "display_data",
          "data": {
            "text/plain": [
              "<IPython.core.display.Math object>"
            ],
            "text/latex": "$\\displaystyle Rotación\\ de\\ Inventarios = \\frac{Costo\\ de\\ Ventas}{Inventario\\ Promedio}$"
          },
          "metadata": {}
        },
        {
          "output_type": "display_data",
          "data": {
            "text/plain": [
              "<IPython.core.display.Latex object>"
            ],
            "text/latex": "\\\\[10pt]"
          },
          "metadata": {}
        },
        {
          "output_type": "display_data",
          "data": {
            "text/plain": [
              "<IPython.core.display.Math object>"
            ],
            "text/latex": "$\\displaystyle Periodo\\ Promedio\\ de\\ Cobro\\ (DSO) = \\frac{Cuentas\\ por\\ Cobrar}{Ventas\\ a\\ Crédito} \\times 365$"
          },
          "metadata": {}
        },
        {
          "output_type": "display_data",
          "data": {
            "text/plain": [
              "<IPython.core.display.Latex object>"
            ],
            "text/latex": "\\\\[10pt]"
          },
          "metadata": {}
        },
        {
          "output_type": "display_data",
          "data": {
            "text/plain": [
              "<IPython.core.display.Math object>"
            ],
            "text/latex": "$\\displaystyle Periodo\\ Promedio\\ de\\ Pago\\ (DPO) = \\frac{Cuentas\\ por\\ Pagar}{Compras\\ a\\ Crédito} \\times 365$"
          },
          "metadata": {}
        },
        {
          "output_type": "display_data",
          "data": {
            "text/plain": [
              "<IPython.core.display.Latex object>"
            ],
            "text/latex": "\\\\[10pt]"
          },
          "metadata": {}
        },
        {
          "output_type": "display_data",
          "data": {
            "text/plain": [
              "<IPython.core.display.Math object>"
            ],
            "text/latex": "$\\displaystyle Ciclo\\ de\\ Conversión\\ de\\ Efectivo = Días\\ Inventario + Días\\ Cobro - Días\\ Pago$"
          },
          "metadata": {}
        },
        {
          "output_type": "display_data",
          "data": {
            "text/plain": [
              "<IPython.core.display.Latex object>"
            ],
            "text/latex": "\\\\[10pt]"
          },
          "metadata": {}
        },
        {
          "output_type": "display_data",
          "data": {
            "text/plain": [
              "<IPython.core.display.Latex object>"
            ],
            "text/latex": "\\\\[12pt]"
          },
          "metadata": {}
        },
        {
          "output_type": "display_data",
          "data": {
            "text/plain": [
              "<IPython.core.display.Latex object>"
            ],
            "text/latex": "\\textbf{📈 Crecimiento}"
          },
          "metadata": {}
        },
        {
          "output_type": "display_data",
          "data": {
            "text/plain": [
              "<IPython.core.display.Latex object>"
            ],
            "text/latex": "\\\\[6pt]"
          },
          "metadata": {}
        },
        {
          "output_type": "display_data",
          "data": {
            "text/plain": [
              "<IPython.core.display.Math object>"
            ],
            "text/latex": "$\\displaystyle Crecimiento\\ en\\ Ventas = \\frac{Ventas_{actual} - Ventas_{anterior}}{Ventas_{anterior}} \\times 100$"
          },
          "metadata": {}
        },
        {
          "output_type": "display_data",
          "data": {
            "text/plain": [
              "<IPython.core.display.Latex object>"
            ],
            "text/latex": "\\\\[10pt]"
          },
          "metadata": {}
        },
        {
          "output_type": "display_data",
          "data": {
            "text/plain": [
              "<IPython.core.display.Math object>"
            ],
            "text/latex": "$\\displaystyle Crecimiento\\ en\\ Utilidad\\ Neta = \\frac{U_{actual} - U_{anterior}}{U_{anterior}} \\times 100$"
          },
          "metadata": {}
        },
        {
          "output_type": "display_data",
          "data": {
            "text/plain": [
              "<IPython.core.display.Latex object>"
            ],
            "text/latex": "\\\\[10pt]"
          },
          "metadata": {}
        }
      ]
    },
    {
      "cell_type": "code",
      "source": [
        "import yfinance as yf\n",
        "\n",
        "lmt=yf.Ticker(\"LMT\")\n",
        "lmt_info=lmt_info\n",
        "lmt_info"
      ],
      "metadata": {
        "colab": {
          "base_uri": "https://localhost:8080/"
        },
        "id": "gPbJKe09e6F8",
        "outputId": "310d14d0-679d-4006-92cd-41a3402d7f26"
      },
      "execution_count": null,
      "outputs": [
        {
          "output_type": "execute_result",
          "data": {
            "text/plain": [
              "{'address1': '6801 Rockledge Drive',\n",
              " 'city': 'Bethesda',\n",
              " 'state': 'MD',\n",
              " 'zip': '20817',\n",
              " 'country': 'United States',\n",
              " 'phone': '301 897 6000',\n",
              " 'website': 'https://www.lockheedmartin.com',\n",
              " 'industry': 'Aerospace & Defense',\n",
              " 'industryKey': 'aerospace-defense',\n",
              " 'industryDisp': 'Aerospace & Defense',\n",
              " 'sector': 'Industrials',\n",
              " 'sectorKey': 'industrials',\n",
              " 'sectorDisp': 'Industrials',\n",
              " 'longBusinessSummary': 'Lockheed Martin Corporation, an aerospace and defense company, engages in the research, design, development, manufacture, integration, and sustainment of technology systems, products, and services worldwide. The company operates through four segments: Aeronautics; Missiles and Fire Control (MFC); Rotary and Mission Systems (RMS); and Space. The Aeronautics segment offers combat and air mobility aircraft, unmanned air vehicles, and related technologies. The MFC segment provides air and missile defense systems; tactical missiles and precision strike weapon systems; logistics; fire control systems; mission operations support, readiness, engineering support, and integration services; ground vehicles; and energy management solutions. The RMS segment offers military and commercial helicopters, surface ships, sea and land-based missile defense systems, radar and laser systems, sea and air-based mission and combat systems, command and control mission solutions, cyber solutions, simulation and training solutions, and services and supports surface ships. The Space segment provides satellites; space transportation systems; strategic, advanced strike, and defensive systems; and classified systems and services in support of national security systems. This segment also provides network-enabled situational awareness and integrates space and ground global systems to help its customers gather, analyze, and securely distribute critical intelligence data. It serves primarily serves the U.S. government and international customers, as well as foreign military sales contracted through the U.S. government. The company was formerly known as The Lockheed Corporation and changed its name to Lockheed Martin Corporation in March 1995. Lockheed Martin Corporation was founded in 1912 and is based in Bethesda, Maryland.',\n",
              " 'fullTimeEmployees': 121000,\n",
              " 'companyOfficers': [{'maxAge': 1,\n",
              "   'name': 'Mr. James D. Taiclet Jr.',\n",
              "   'age': 63,\n",
              "   'title': 'Chairman, President & CEO',\n",
              "   'yearBorn': 1961,\n",
              "   'fiscalYear': 2024,\n",
              "   'totalPay': 10707320,\n",
              "   'exercisedValue': 0,\n",
              "   'unexercisedValue': 0},\n",
              "  {'maxAge': 1,\n",
              "   'name': 'Mr. Frank A. St. John',\n",
              "   'age': 57,\n",
              "   'title': 'Chief Operating Officer',\n",
              "   'yearBorn': 1967,\n",
              "   'fiscalYear': 2024,\n",
              "   'totalPay': 4504110,\n",
              "   'exercisedValue': 0,\n",
              "   'unexercisedValue': 0},\n",
              "  {'maxAge': 1,\n",
              "   'name': 'Ms. Stephanie C. Hill',\n",
              "   'age': 59,\n",
              "   'title': 'President of Rotary & Mission Systems',\n",
              "   'yearBorn': 1965,\n",
              "   'fiscalYear': 2024,\n",
              "   'totalPay': 3210198,\n",
              "   'exercisedValue': 0,\n",
              "   'unexercisedValue': 0},\n",
              "  {'maxAge': 1,\n",
              "   'name': 'Mr. Robert M. Lightfoot Jr.',\n",
              "   'age': 60,\n",
              "   'title': 'President of Space',\n",
              "   'yearBorn': 1964,\n",
              "   'fiscalYear': 2024,\n",
              "   'totalPay': 3196248,\n",
              "   'exercisedValue': 0,\n",
              "   'unexercisedValue': 0},\n",
              "  {'maxAge': 1,\n",
              "   'name': 'Mr. Evan T. Scott',\n",
              "   'age': 46,\n",
              "   'title': 'Senior VP & CFO',\n",
              "   'yearBorn': 1978,\n",
              "   'fiscalYear': 2024,\n",
              "   'exercisedValue': 0,\n",
              "   'unexercisedValue': 0},\n",
              "  {'maxAge': 1,\n",
              "   'name': 'Mr. H. Edward Paul III',\n",
              "   'age': 48,\n",
              "   'title': 'Chief Accounting Officer, VP & Controller',\n",
              "   'yearBorn': 1976,\n",
              "   'fiscalYear': 2024,\n",
              "   'exercisedValue': 0,\n",
              "   'unexercisedValue': 0},\n",
              "  {'maxAge': 1,\n",
              "   'name': 'Dr. Craig  Martell',\n",
              "   'title': 'Chief Technology Officer',\n",
              "   'fiscalYear': 2024,\n",
              "   'exercisedValue': 0,\n",
              "   'unexercisedValue': 0},\n",
              "  {'maxAge': 1,\n",
              "   'name': 'Ms. Maria  Demaree',\n",
              "   'title': 'Senior VP of Enterprise Business & Digital Transformation and Chief information Officer',\n",
              "   'fiscalYear': 2024,\n",
              "   'exercisedValue': 0,\n",
              "   'unexercisedValue': 0},\n",
              "  {'maxAge': 1,\n",
              "   'name': 'Ms. Maria A. Ricciardone',\n",
              "   'age': 48,\n",
              "   'title': 'VP, Treasurer & Investor Relations',\n",
              "   'yearBorn': 1976,\n",
              "   'fiscalYear': 2024,\n",
              "   'exercisedValue': 0,\n",
              "   'unexercisedValue': 0},\n",
              "  {'maxAge': 1,\n",
              "   'name': \"Mr. Kevin James O'Connor J.D.\",\n",
              "   'age': 56,\n",
              "   'title': 'Senior Vice President, General Counsel & Corporate Secretary',\n",
              "   'yearBorn': 1968,\n",
              "   'fiscalYear': 2024,\n",
              "   'exercisedValue': 0,\n",
              "   'unexercisedValue': 0}],\n",
              " 'auditRisk': 2,\n",
              " 'boardRisk': 7,\n",
              " 'compensationRisk': 2,\n",
              " 'shareHolderRightsRisk': 7,\n",
              " 'overallRisk': 5,\n",
              " 'governanceEpochDate': 1756684800,\n",
              " 'compensationAsOfEpochDate': 1735603200,\n",
              " 'irWebsite': 'http://phx.corporate-ir.net/phoenix.zhtml?c=83941&p=irol-IRHome',\n",
              " 'executiveTeam': [],\n",
              " 'maxAge': 86400,\n",
              " 'priceHint': 2,\n",
              " 'previousClose': 491.98,\n",
              " 'open': 492.58,\n",
              " 'dayLow': 491.14,\n",
              " 'dayHigh': 499.79,\n",
              " 'regularMarketPreviousClose': 491.98,\n",
              " 'regularMarketOpen': 492.58,\n",
              " 'regularMarketDayLow': 491.14,\n",
              " 'regularMarketDayHigh': 499.79,\n",
              " 'dividendRate': 13.2,\n",
              " 'dividendYield': 2.71,\n",
              " 'exDividendDate': 1756771200,\n",
              " 'payoutRatio': 0.73230004,\n",
              " 'fiveYearAvgDividendYield': 2.67,\n",
              " 'beta': 0.262,\n",
              " 'trailingPE': 27.718489,\n",
              " 'forwardPE': 17.75916,\n",
              " 'volume': 1089926,\n",
              " 'regularMarketVolume': 1089926,\n",
              " 'averageVolume': 1642893,\n",
              " 'averageVolume10days': 1375530,\n",
              " 'averageDailyVolume10Day': 1375530,\n",
              " 'bid': 498.96,\n",
              " 'ask': 499.2,\n",
              " 'bidSize': 2,\n",
              " 'askSize': 1,\n",
              " 'marketCap': 116548091904,\n",
              " 'fiftyTwoWeekLow': 410.11,\n",
              " 'fiftyTwoWeekHigh': 618.95,\n",
              " 'allTimeHigh': 618.95,\n",
              " 'allTimeLow': 0.281186,\n",
              " 'priceToSalesTrailing12Months': 1.6222383,\n",
              " 'fiftyDayAverage': 450.219,\n",
              " 'twoHundredDayAverage': 462.6544,\n",
              " 'trailingAnnualDividendRate': 13.05,\n",
              " 'trailingAnnualDividendYield': 0.026525468,\n",
              " 'currency': 'USD',\n",
              " 'tradeable': False,\n",
              " 'enterpriseValue': 135205134336,\n",
              " 'profitMargins': 0.058520004,\n",
              " 'floatShares': 171940010,\n",
              " 'sharesOutstanding': 233465056,\n",
              " 'sharesShort': 2459639,\n",
              " 'sharesShortPriorMonth': 2737007,\n",
              " 'sharesShortPreviousMonthDate': 1755216000,\n",
              " 'dateShortInterest': 1757894400,\n",
              " 'sharesPercentSharesOut': 0.0105,\n",
              " 'heldPercentInsiders': 0.00082,\n",
              " 'heldPercentInstitutions': 0.75593,\n",
              " 'shortRatio': 1.8,\n",
              " 'shortPercentOfFloat': 0.0125,\n",
              " 'impliedSharesOutstanding': 233465056,\n",
              " 'bookValue': 22.991,\n",
              " 'priceToBook': 21.71328,\n",
              " 'lastFiscalYearEnd': 1735603200,\n",
              " 'nextFiscalYearEnd': 1767139200,\n",
              " 'mostRecentQuarter': 1751155200,\n",
              " 'earningsQuarterlyGrowth': -0.792,\n",
              " 'netIncomeToCommon': 4204000000,\n",
              " 'trailingEps': 18.01,\n",
              " 'forwardEps': 28.11,\n",
              " 'lastSplitFactor': '2:1',\n",
              " 'lastSplitDate': 915408000,\n",
              " 'enterpriseToRevenue': 1.882,\n",
              " 'enterpriseToEbitda': 18.794,\n",
              " '52WeekChange': -0.1723972,\n",
              " 'SandP52WeekChange': 0.17145336,\n",
              " 'lastDividendValue': 3.3,\n",
              " 'lastDividendDate': 1756771200,\n",
              " 'quoteType': 'EQUITY',\n",
              " 'currentPrice': 499.21,\n",
              " 'targetHighPrice': 544.0,\n",
              " 'targetLowPrice': 398.0,\n",
              " 'targetMeanPrice': 473.9412,\n",
              " 'targetMedianPrice': 465.0,\n",
              " 'recommendationMean': 2.52632,\n",
              " 'recommendationKey': 'hold',\n",
              " 'numberOfAnalystOpinions': 17,\n",
              " 'totalCash': 1292999936,\n",
              " 'totalCashPerShare': 5.538,\n",
              " 'ebitda': 7193999872,\n",
              " 'totalDebt': 21638000640,\n",
              " 'quickRatio': 0.8,\n",
              " 'currentRatio': 0.985,\n",
              " 'totalRevenue': 71844003840,\n",
              " 'debtToEquity': 405.662,\n",
              " 'revenuePerShare': 305.2,\n",
              " 'returnOnAssets': 0.06467,\n",
              " 'returnOnEquity': 0.73056,\n",
              " 'grossProfits': 5929999872,\n",
              " 'freeCashflow': 3821625088,\n",
              " 'operatingCashflow': 5071000064,\n",
              " 'earningsGrowth': -0.787,\n",
              " 'revenueGrowth': 0.002,\n",
              " 'grossMargins': 0.08254,\n",
              " 'ebitdaMargins': 0.10012999,\n",
              " 'operatingMargins': 0.038829997,\n",
              " 'financialCurrency': 'USD',\n",
              " 'symbol': 'LMT',\n",
              " 'language': 'en-US',\n",
              " 'region': 'US',\n",
              " 'typeDisp': 'Equity',\n",
              " 'quoteSourceName': 'Delayed Quote',\n",
              " 'triggerable': True,\n",
              " 'customPriceAlertConfidence': 'HIGH',\n",
              " 'regularMarketChangePercent': 1.46957,\n",
              " 'regularMarketPrice': 499.21,\n",
              " 'corporateActions': [],\n",
              " 'postMarketTime': 1759276745,\n",
              " 'regularMarketTime': 1759262402,\n",
              " 'exchange': 'NYQ',\n",
              " 'messageBoardId': 'finmb_285827',\n",
              " 'exchangeTimezoneName': 'America/New_York',\n",
              " 'exchangeTimezoneShortName': 'EDT',\n",
              " 'gmtOffSetMilliseconds': -14400000,\n",
              " 'market': 'us_market',\n",
              " 'esgPopulated': False,\n",
              " 'shortName': 'Lockheed Martin Corporation',\n",
              " 'longName': 'Lockheed Martin Corporation',\n",
              " 'marketState': 'POSTPOST',\n",
              " 'fiftyDayAverageChange': 48.990997,\n",
              " 'fiftyDayAverageChangePercent': 0.10881593,\n",
              " 'twoHundredDayAverageChange': 36.555603,\n",
              " 'twoHundredDayAverageChangePercent': 0.07901277,\n",
              " 'sourceInterval': 15,\n",
              " 'exchangeDataDelayedBy': 0,\n",
              " 'averageAnalystRating': '2.5 - Hold',\n",
              " 'cryptoTradeable': False,\n",
              " 'hasPrePostMarketData': True,\n",
              " 'firstTradeDateMilliseconds': -252322200000,\n",
              " 'postMarketChangePercent': 0.056088377,\n",
              " 'postMarketPrice': 499.49,\n",
              " 'postMarketChange': 0.27999878,\n",
              " 'regularMarketChange': 7.22998,\n",
              " 'regularMarketDayRange': '491.14 - 499.79',\n",
              " 'fullExchangeName': 'NYSE',\n",
              " 'averageDailyVolume3Month': 1642893,\n",
              " 'fiftyTwoWeekLowChange': 89.100006,\n",
              " 'fiftyTwoWeekLowChangePercent': 0.21725881,\n",
              " 'fiftyTwoWeekRange': '410.11 - 618.95',\n",
              " 'fiftyTwoWeekHighChange': -119.74002,\n",
              " 'fiftyTwoWeekHighChangePercent': -0.1934567,\n",
              " 'fiftyTwoWeekChangePercent': -17.23972,\n",
              " 'dividendDate': 1758844800,\n",
              " 'earningsTimestamp': 1753187400,\n",
              " 'earningsTimestampStart': 1761049800,\n",
              " 'earningsTimestampEnd': 1761049800,\n",
              " 'earningsCallTimestampStart': 1753196400,\n",
              " 'earningsCallTimestampEnd': 1753196400,\n",
              " 'isEarningsDateEstimate': False,\n",
              " 'epsTrailingTwelveMonths': 18.01,\n",
              " 'epsForward': 28.11,\n",
              " 'epsCurrentYear': 21.9249,\n",
              " 'priceEpsCurrentYear': 22.769089,\n",
              " 'displayName': 'Lockheed Martin',\n",
              " 'trailingPegRatio': 1.6201}"
            ]
          },
          "metadata": {},
          "execution_count": 22
        }
      ]
    },
    {
      "cell_type": "code",
      "source": [
        "import yfinance as yf\n",
        "\n",
        "lmt = yf.Ticker(\"LMT\")\n",
        "lmt_financials_dict = lmt.financials.to_dict()\n",
        "print(lmt_financials_dict)"
      ],
      "metadata": {
        "colab": {
          "base_uri": "https://localhost:8080/"
        },
        "id": "fXOSJVlDe9Oq",
        "outputId": "f3eed0bc-b5f4-4c77-ad96-e08ff86d1733"
      },
      "execution_count": null,
      "outputs": [
        {
          "output_type": "stream",
          "name": "stdout",
          "text": [
            "{Timestamp('2024-12-31 00:00:00'): {'Tax Effect Of Unusual Items': 0.0, 'Tax Rate For Calcs': 0.142, 'Normalized EBITDA': 8815000000.0, 'Net Income From Continuing Operation Net Minority Interest': 5336000000.0, 'Reconciled Depreciation': 1559000000.0, 'Reconciled Cost Of Revenue': 64113000000.0, 'EBITDA': 8815000000.0, 'EBIT': 7256000000.0, 'Net Interest Income': -1036000000.0, 'Interest Expense': 1036000000.0, 'Normalized Income': 5336000000.0, 'Net Income From Continuing And Discontinued Operation': 5336000000.0, 'Total Expenses': 64030000000.0, 'Total Operating Income As Reported': 7013000000.0, 'Diluted Average Shares': 239200000.0, 'Basic Average Shares': 238300000.0, 'Diluted EPS': 22.31, 'Basic EPS': 22.39, 'Diluted NI Availto Com Stockholders': 5336000000.0, 'Net Income Common Stockholders': 5336000000.0, 'Net Income': 5336000000.0, 'Net Income Including Noncontrolling Interests': 5336000000.0, 'Net Income Discontinuous Operations': nan, 'Net Income Continuous Operations': 5336000000.0, 'Tax Provision': 884000000.0, 'Pretax Income': 6220000000.0, 'Other Income Expense': 243000000.0, 'Other Non Operating Income Expenses': 243000000.0, 'Net Non Operating Interest Income Expense': -1036000000.0, 'Interest Expense Non Operating': 1036000000.0, 'Operating Income': 7013000000.0, 'Operating Expense': -83000000.0, 'Other Operating Expenses': -83000000.0, 'Gross Profit': 6930000000.0, 'Cost Of Revenue': 64113000000.0, 'Total Revenue': 71043000000.0, 'Operating Revenue': 71043000000.0}, Timestamp('2023-12-31 00:00:00'): {'Tax Effect Of Unusual Items': 0.0, 'Tax Rate For Calcs': 0.145, 'Normalized EBITDA': 10444000000.0, 'Net Income From Continuing Operation Net Minority Interest': 6920000000.0, 'Reconciled Depreciation': 1430000000.0, 'Reconciled Cost Of Revenue': 59092000000.0, 'EBITDA': 10444000000.0, 'EBIT': 9014000000.0, 'Net Interest Income': -916000000.0, 'Interest Expense': 916000000.0, 'Normalized Income': 6920000000.0, 'Net Income From Continuing And Discontinued Operation': 6920000000.0, 'Total Expenses': 59064000000.0, 'Total Operating Income As Reported': 8507000000.0, 'Diluted Average Shares': 251200000.0, 'Basic Average Shares': 250300000.0, 'Diluted EPS': 27.55, 'Basic EPS': 27.65, 'Diluted NI Availto Com Stockholders': 6920000000.0, 'Net Income Common Stockholders': 6920000000.0, 'Net Income': 6920000000.0, 'Net Income Including Noncontrolling Interests': 6920000000.0, 'Net Income Discontinuous Operations': nan, 'Net Income Continuous Operations': 6920000000.0, 'Tax Provision': 1178000000.0, 'Pretax Income': 8098000000.0, 'Other Income Expense': 507000000.0, 'Other Non Operating Income Expenses': 507000000.0, 'Net Non Operating Interest Income Expense': -916000000.0, 'Interest Expense Non Operating': 916000000.0, 'Operating Income': 8507000000.0, 'Operating Expense': -28000000.0, 'Other Operating Expenses': -28000000.0, 'Gross Profit': 8479000000.0, 'Cost Of Revenue': 59092000000.0, 'Total Revenue': 67571000000.0, 'Operating Revenue': 67571000000.0}, Timestamp('2022-12-31 00:00:00'): {'Tax Effect Of Unusual Items': 0.0, 'Tax Rate For Calcs': 0.141916, 'Normalized EBITDA': 8707000000.0, 'Net Income From Continuing Operation Net Minority Interest': 5732000000.0, 'Reconciled Depreciation': 1404000000.0, 'Reconciled Cost Of Revenue': 57697000000.0, 'EBITDA': 8707000000.0, 'EBIT': 7303000000.0, 'Net Interest Income': -623000000.0, 'Interest Expense': 623000000.0, 'Normalized Income': 5732000000.0, 'Net Income From Continuing And Discontinued Operation': 5732000000.0, 'Total Expenses': 57636000000.0, 'Total Operating Income As Reported': 8348000000.0, 'Diluted Average Shares': 264600000.0, 'Basic Average Shares': 263700000.0, 'Diluted EPS': 21.66, 'Basic EPS': 21.74, 'Diluted NI Availto Com Stockholders': 5732000000.0, 'Net Income Common Stockholders': 5732000000.0, 'Net Income': 5732000000.0, 'Net Income Including Noncontrolling Interests': 5732000000.0, 'Net Income Discontinuous Operations': 0.0, 'Net Income Continuous Operations': 5732000000.0, 'Tax Provision': 948000000.0, 'Pretax Income': 6680000000.0, 'Other Income Expense': -1045000000.0, 'Other Non Operating Income Expenses': -1045000000.0, 'Net Non Operating Interest Income Expense': -623000000.0, 'Interest Expense Non Operating': 623000000.0, 'Operating Income': 8348000000.0, 'Operating Expense': -61000000.0, 'Other Operating Expenses': -61000000.0, 'Gross Profit': 8287000000.0, 'Cost Of Revenue': 57697000000.0, 'Total Revenue': 65984000000.0, 'Operating Revenue': 65984000000.0}, Timestamp('2021-12-31 00:00:00'): {'Tax Effect Of Unusual Items': 0.0, 'Tax Rate For Calcs': 0.164, 'Normalized EBITDA': 9483000000.0, 'Net Income From Continuing Operation Net Minority Interest': 6315000000.0, 'Reconciled Depreciation': 1364000000.0, 'Reconciled Cost Of Revenue': 57983000000.0, 'EBITDA': 9483000000.0, 'EBIT': 8119000000.0, 'Net Interest Income': -569000000.0, 'Interest Expense': 569000000.0, 'Normalized Income': 6315000000.0, 'Net Income From Continuing And Discontinued Operation': 6315000000.0, 'Total Expenses': 57921000000.0, 'Total Operating Income As Reported': 9123000000.0, 'Diluted Average Shares': 277400000.0, 'Basic Average Shares': 276400000.0, 'Diluted EPS': 22.76, 'Basic EPS': 22.85, 'Diluted NI Availto Com Stockholders': 6315000000.0, 'Net Income Common Stockholders': 6315000000.0, 'Net Income': 6315000000.0, 'Net Income Including Noncontrolling Interests': 6315000000.0, 'Net Income Discontinuous Operations': 0.0, 'Net Income Continuous Operations': 6315000000.0, 'Tax Provision': 1235000000.0, 'Pretax Income': 7550000000.0, 'Other Income Expense': -1004000000.0, 'Other Non Operating Income Expenses': -1004000000.0, 'Net Non Operating Interest Income Expense': -569000000.0, 'Interest Expense Non Operating': 569000000.0, 'Operating Income': 9123000000.0, 'Operating Expense': -62000000.0, 'Other Operating Expenses': -62000000.0, 'Gross Profit': 9061000000.0, 'Cost Of Revenue': 57983000000.0, 'Total Revenue': 67044000000.0, 'Operating Revenue': 67044000000.0}, Timestamp('2020-12-31 00:00:00'): {'Tax Effect Of Unusual Items': nan, 'Tax Rate For Calcs': nan, 'Normalized EBITDA': nan, 'Net Income From Continuing Operation Net Minority Interest': nan, 'Reconciled Depreciation': nan, 'Reconciled Cost Of Revenue': nan, 'EBITDA': nan, 'EBIT': nan, 'Net Interest Income': nan, 'Interest Expense': nan, 'Normalized Income': nan, 'Net Income From Continuing And Discontinued Operation': nan, 'Total Expenses': nan, 'Total Operating Income As Reported': nan, 'Diluted Average Shares': nan, 'Basic Average Shares': nan, 'Diluted EPS': nan, 'Basic EPS': nan, 'Diluted NI Availto Com Stockholders': nan, 'Net Income Common Stockholders': nan, 'Net Income': nan, 'Net Income Including Noncontrolling Interests': nan, 'Net Income Discontinuous Operations': -55000000.0, 'Net Income Continuous Operations': nan, 'Tax Provision': nan, 'Pretax Income': nan, 'Other Income Expense': nan, 'Other Non Operating Income Expenses': nan, 'Net Non Operating Interest Income Expense': nan, 'Interest Expense Non Operating': nan, 'Operating Income': nan, 'Operating Expense': nan, 'Other Operating Expenses': nan, 'Gross Profit': nan, 'Cost Of Revenue': nan, 'Total Revenue': nan, 'Operating Revenue': nan}}\n"
          ]
        }
      ]
    },
    {
      "cell_type": "code",
      "source": [
        "# Instalar yfinance si no lo tienes\n",
        "# !pip install yfinance\n",
        "\n",
        "import yfinance as yf\n",
        "import pandas as pd\n",
        "from datetime import datetime\n",
        "def calcular_roi(ticker, fecha_inicio, fecha_fin):\n",
        "    \"\"\"\n",
        "    Calcula el ROI para un ticker en un período específico\n",
        "    \"\"\"\n",
        "    # Descargar datos\n",
        "    stock = yf.download(ticker, start=fecha_inicio, end=fecha_fin)\n",
        "\n",
        "    if stock.empty:\n",
        "        print(\"No se pudieron obtener datos\")\n",
        "        return None\n",
        "\n",
        "    # Precios de apertura y cierre\n",
        "    precio_inicial = float(stock['Open'].iloc[0])\n",
        "    precio_final = float(stock['Close'].iloc[-1])\n",
        "\n",
        "    # Obtener dividendos del período\n",
        "    ticker_obj = yf.Ticker(ticker)\n",
        "    dividendos = ticker_obj.dividends.loc[fecha_inicio:fecha_fin]\n",
        "    dividendos_total = float(dividendos.sum()) if not dividendos.empty else 0.0\n",
        "\n",
        "    # Calcular ROI\n",
        "    ganancia_capital = float(precio_final - precio_inicial)\n",
        "    ganancia_total = float(ganancia_capital + dividendos_total)\n",
        "    roi = (ganancia_total / precio_inicial) * 100\n",
        "\n",
        "    # Mostrar resultados\n",
        "    print(f\"ROI de {ticker} desde {fecha_inicio} hasta {fecha_fin}:\")\n",
        "    print(f\"Precio inicial: ${precio_inicial:.2f}\")\n",
        "    print(f\"Precio final: ${precio_final:.2f}\")\n",
        "    print(f\"Dividendos totales: ${dividendos_total:.2f}\")\n",
        "    print(f\"Ganancia/Pérdida de capital: ${ganancia_capital:.2f}\")\n",
        "    print(f\"ROI: {roi:.2f}%\")\n",
        "\n",
        "    return roi\n",
        "\n",
        "# Ejemplo para 2023\n",
        "roi_2023 = calcular_roi(\"LMT\", \"2023-01-01\", \"2023-12-31\")"
      ],
      "metadata": {
        "colab": {
          "base_uri": "https://localhost:8080/"
        },
        "id": "QpPg8i35is9X",
        "outputId": "df737eb1-874a-49a3-dcf6-d00bff4e3656"
      },
      "execution_count": null,
      "outputs": [
        {
          "output_type": "stream",
          "name": "stderr",
          "text": [
            "/tmp/ipython-input-1034500310.py:12: FutureWarning: YF.download() has changed argument auto_adjust default to True\n",
            "  stock = yf.download(ticker, start=fecha_inicio, end=fecha_fin)\n",
            "\r[*********************100%***********************]  1 of 1 completed\n",
            "/tmp/ipython-input-1034500310.py:19: FutureWarning: Calling float on a single element Series is deprecated and will raise a TypeError in the future. Use float(ser.iloc[0]) instead\n",
            "  precio_inicial = float(stock['Open'].iloc[0])\n",
            "/tmp/ipython-input-1034500310.py:20: FutureWarning: Calling float on a single element Series is deprecated and will raise a TypeError in the future. Use float(ser.iloc[0]) instead\n",
            "  precio_final = float(stock['Close'].iloc[-1])\n"
          ]
        },
        {
          "output_type": "stream",
          "name": "stdout",
          "text": [
            "ROI de LMT desde 2023-01-01 hasta 2023-12-31:\n",
            "Precio inicial: $448.87\n",
            "Precio final: $432.29\n",
            "Dividendos totales: $12.15\n",
            "Ganancia/Pérdida de capital: $-16.59\n",
            "ROI: -0.99%\n"
          ]
        }
      ]
    },
    {
      "cell_type": "code",
      "source": [
        "import yfinance as yf\n",
        "import pandas as pd\n",
        "from datetime import datetime, timedelta\n",
        "import warnings\n",
        "warnings.filterwarnings('ignore')\n",
        "\n",
        "def analisis_completo_lmt():\n",
        "    \"\"\"\n",
        "    ANÁLISIS COMPLETO DE LOCKHEED MARTIN (LMT)\n",
        "    Incluye: ROI, ROE, ROA, comparativas y análisis histórico\n",
        "    \"\"\"\n",
        "    print(\"🔍 ANÁLISIS COMPLETO - LOCKHEED MARTIN (LMT)\")\n",
        "    print(\"=\" * 70)\n",
        "\n",
        "    # Configuración inicial\n",
        "    ticker = \"LMT\"\n",
        "    stock = yf.Ticker(ticker)\n",
        "    info = stock.info\n",
        "    fecha_actual = datetime.now().strftime('%Y-%m-%d')\n",
        "\n",
        "    # 1. INFORMACIÓN BÁSICA DE LA EMPRESA\n",
        "    print(\"\\n1. 📊 INFORMACIÓN GENERAL\")\n",
        "    print(\"-\" * 40)\n",
        "    print(f\"Empresa: {info.get('longName', 'N/A')}\")\n",
        "    print(f\"Sector: {info.get('sector', 'N/A')}\")\n",
        "    print(f\"Industria: {info.get('industry', 'N/A')}\")\n",
        "    print(f\"Precio actual: ${info.get('currentPrice', 'N/A')}\")\n",
        "    print(f\"Market Cap: ${info.get('marketCap', 0)/1e9:.2f}B\" if info.get('marketCap') else \"Market Cap: N/A\")\n",
        "\n",
        "    # 2. CÁLCULO DE ROI PARA DIFERENTES PERÍODOS\n",
        "    print(\"\\n2. 📈 ANÁLISIS DE ROI (Return on Investment)\")\n",
        "    print(\"-\" * 40)\n",
        "\n",
        "    def calcular_roi_periodo(start_date, end_date, periodo_nombre):\n",
        "        \"\"\"Calcula ROI para un período específico\"\"\"\n",
        "        try:\n",
        "            data = yf.download(ticker, start=start_date, end=end_date)\n",
        "            if data.empty:\n",
        "                return None\n",
        "\n",
        "            precio_inicio = data['Open'].iloc[0]\n",
        "            precio_fin = data['Close'].iloc[-1]\n",
        "\n",
        "            # Obtener dividendos del período\n",
        "            dividendos = stock.dividends.loc[start_date:end_date]\n",
        "            total_dividendos = dividendos.sum()\n",
        "\n",
        "            # Cálculo ROI\n",
        "            ganancia_capital = precio_fin - precio_inicio\n",
        "            ganancia_total = ganancia_capital + total_dividendos\n",
        "            roi = (ganancia_total / precio_inicio) * 100\n",
        "\n",
        "            print(f\"   {periodo_nombre}:\")\n",
        "            print(f\"     • Precio inicial: ${precio_inicio:.2f}\")\n",
        "            print(f\"     • Precio final: ${precio_fin:.2f}\")\n",
        "            print(f\"     • Dividendos: ${total_dividendos:.2f}\")\n",
        "            print(f\"     • ROI: {roi:.2f}%\")\n",
        "\n",
        "            return roi\n",
        "        except Exception as e:\n",
        "            print(f\"   {periodo_nombre}: Error - {e}\")\n",
        "            return None\n",
        "\n",
        "    # Períodos a analizar\n",
        "    periodos = {\n",
        "        \"Último mes\": (datetime.now() - timedelta(days=30)).strftime('%Y-%m-%d'),\n",
        "        \"YTD (Año actual)\": f\"{datetime.now().year}-01-01\",\n",
        "        \"Último año\": (datetime.now() - timedelta(days=365)).strftime('%Y-%m-%d'),\n",
        "        \"Últimos 3 años\": (datetime.now() - timedelta(days=3*365)).strftime('%Y-%m-%d')\n",
        "    }\n",
        "\n",
        "    resultados_roi = {}\n",
        "    for nombre, fecha_inicio in periodos.items():\n",
        "        roi = calcular_roi_periodo(fecha_inicio, fecha_actual, nombre)\n",
        "        resultados_roi[nombre] = roi\n",
        "\n",
        "    # 3. ANÁLISIS DE ROE Y ROA\n",
        "    print(\"\\n3. 💰 ANÁLISIS DE RENTABILIDAD (ROE y ROA)\")\n",
        "    print(\"-\" * 40)\n",
        "\n",
        "    # Método 1: Directo de yfinance\n",
        "    print(\"   MÉTODO DIRECTO (yfinance):\")\n",
        "    roe_directo = info.get('returnOnEquity')\n",
        "    roa_directo = info.get('returnOnAssets')\n",
        "\n",
        "    if roe_directo:\n",
        "        print(f\"     • ROE (Return on Equity): {roe_directo * 100:.2f}%\")\n",
        "    else:\n",
        "        print(\"     • ROE: No disponible\")\n",
        "\n",
        "    if roa_directo:\n",
        "        print(f\"     • ROA (Return on Assets): {roa_directo * 100:.2f}%\")\n",
        "    else:\n",
        "        print(\"     • ROA: No disponible\")\n",
        "\n",
        "    # Método 2: Cálculo manual desde estados financieros\n",
        "    print(\"\\n   CÁLCULO MANUAL (estados financieros):\")\n",
        "    try:\n",
        "        balance_sheet = stock.balance_sheet\n",
        "        income_stmt = stock.income_stmt\n",
        "\n",
        "        if not balance_sheet.empty and not income_stmt.empty:\n",
        "            # Tomar el año más reciente\n",
        "            net_income = balance_sheet.iloc[0].get('Net Income')\n",
        "            if net_income is None:\n",
        "                net_income = income_stmt.iloc[0].get('Net Income')\n",
        "\n",
        "            total_assets = balance_sheet.iloc[0].get('Total Assets')\n",
        "            total_equity = balance_sheet.iloc[0].get('Stockholders Equity')\n",
        "\n",
        "            if all([net_income, total_assets, total_equity]):\n",
        "                roe_manual = (net_income / total_equity) * 100\n",
        "                roa_manual = (net_income / total_assets) * 100\n",
        "\n",
        "                print(f\"     • ROE calculado: {roe_manual:.2f}%\")\n",
        "                print(f\"     • ROA calculado: {roa_manual:.2f}%\")\n",
        "                print(f\"     • Net Income: ${net_income/1e6:,.0f}M\")\n",
        "                print(f\"     • Total Equity: ${total_equity/1e6:,.0f}M\")\n",
        "                print(f\"     • Total Assets: ${total_assets/1e6:,.0f}M\")\n",
        "            else:\n",
        "                print(\"     • Datos insuficientes para cálculo manual\")\n",
        "        else:\n",
        "            print(\"     • Estados financieros no disponibles\")\n",
        "    except Exception as e:\n",
        "        print(f\"     • Error en cálculo manual: {e}\")\n",
        "\n",
        "    # 4. ANÁLISIS HISTÓRICO DE RATIOS\n",
        "    print(\"\\n4. 📅 EVOLUCIÓN HISTÓRICA DE ROE/ROA\")\n",
        "    print(\"-\" * 40)\n",
        "\n",
        "    try:\n",
        "        balance_sheet = stock.balance_sheet\n",
        "        income_stmt = stock.income_stmt\n",
        "\n",
        "        if not balance_sheet.empty and not income_stmt.empty:\n",
        "            # Limitar a últimos 4 años\n",
        "            años_mostrar = min(4, len(balance_sheet.columns))\n",
        "\n",
        "            print(\"   Año\\t\\tROE (%)\\t\\tROA (%)\\t\\tNet Income\")\n",
        "            print(\"   \" + \"-\" * 55)\n",
        "\n",
        "            for i in range(años_mostrar):\n",
        "                año = balance_sheet.columns[i]\n",
        "                net_income = income_stmt.iloc[:, i].get('Net Income')\n",
        "                total_assets = balance_sheet.iloc[:, i].get('Total Assets')\n",
        "                total_equity = balance_sheet.iloc[:, i].get('Stockholders Equity')\n",
        "\n",
        "                if all([net_income, total_assets, total_equity]):\n",
        "                    roe = (net_income / total_equity) * 100\n",
        "                    roa = (net_income / total_assets) * 100\n",
        "\n",
        "                    print(f\"   {año.year}\\t\\t{roe:.1f}%\\t\\t{roa:.1f}%\\t\\t${net_income/1e6:.0f}M\")\n",
        "                else:\n",
        "                    print(f\"   {año.year}\\t\\tDatos incompletos\")\n",
        "        else:\n",
        "            print(\"   No hay datos históricos disponibles\")\n",
        "    except Exception as e:\n",
        "        print(f\"   Error en análisis histórico: {e}\")\n",
        "\n",
        "    # 5. COMPARATIVA CON EL SECTOR\n",
        "    print(\"\\n5. 🔄 COMPARATIVA CON EMPRESAS DEL SECTOR\")\n",
        "    print(\"-\" * 40)\n",
        "\n",
        "    empresas_comparar = [\"LMT\", \"RTX\", \"NOC\", \"GD\", \"BA\"]\n",
        "\n",
        "    print(\"   Empresa\\t\\tROE (%)\\t\\tROA (%)\\t\\tDiv Yield\")\n",
        "    print(\"   \" + \"-\" * 60)\n",
        "\n",
        "    for emp_ticker in empresas_comparar:\n",
        "        try:\n",
        "            emp_stock = yf.Ticker(emp_ticker)\n",
        "            emp_info = emp_stock.info\n",
        "\n",
        "            roe_emp = emp_info.get('returnOnEquity')\n",
        "            roa_emp = emp_info.get('returnOnAssets')\n",
        "            div_yield = emp_info.get('dividendYield')\n",
        "            nombre_corto = emp_info.get('shortName', emp_ticker)[:15]\n",
        "\n",
        "            roe_str = f\"{roe_emp*100:.1f}%\" if roe_emp else \"N/A\"\n",
        "            roa_str = f\"{roa_emp*100:.1f}%\" if roa_emp else \"N/A\"\n",
        "            div_str = f\"{div_yield*100:.2f}%\" if div_yield else \"N/A\"\n",
        "\n",
        "            print(f\"   {nombre_corto}\\t\\t{roe_str}\\t\\t{roa_str}\\t\\t{div_str}\")\n",
        "\n",
        "        except Exception as e:\n",
        "            print(f\"   {emp_ticker}\\t\\tError en datos\")\n",
        "\n",
        "    # 6. ANÁLISIS DE DIVIDENDOS\n",
        "    print(\"\\n6. 💵 ANÁLISIS DE DIVIDENDOS\")\n",
        "    print(\"-\" * 40)\n",
        "\n",
        "    dividend_yield = info.get('dividendYield')\n",
        "    if dividend_yield:\n",
        "        print(f\"   • Dividend Yield: {dividend_yield * 100:.2f}%\")\n",
        "\n",
        "    # Últimos dividendos\n",
        "    try:\n",
        "        dividendos = stock.dividends.tail(6)\n",
        "        if not dividendos.empty:\n",
        "            print(f\"   • Últimos dividendos por acción:\")\n",
        "            for fecha, valor in dividendos.items():\n",
        "                print(f\"     {fecha.strftime('%Y-%m-%d')}: ${valor:.2f}\")\n",
        "    except:\n",
        "        print(\"   • Historial de dividendos no disponible\")\n",
        "\n",
        "    # 7. RESUMEN Y RECOMENDACIONES\n",
        "    print(\"\\n7. 📋 RESUMEN EJECUTIVO\")\n",
        "    print(\"-\" * 40)\n",
        "\n",
        "    # Evaluar ROE\n",
        "    roe_evaluar = roe_directo if roe_directo else (roe_manual/100 if 'roe_manual' in locals() else None)\n",
        "    if roe_evaluar:\n",
        "        if roe_evaluar > 0.15:\n",
        "            eval_roe = \"✅ EXCELENTE ( >15%)\"\n",
        "        elif roe_evaluar > 0.10:\n",
        "            eval_roe = \"⚠️ BUENO (10-15%)\"\n",
        "        elif roe_evaluar > 0.05:\n",
        "            eval_roe = \"🔶 MODESTO (5-10%)\"\n",
        "        else:\n",
        "            eval_roe = \"❌ BAJO ( <5%)\"\n",
        "    else:\n",
        "        eval_roe = \"📊 NO DISPONIBLE\"\n",
        "\n",
        "    # Evaluar ROA\n",
        "    roa_evaluar = roa_directo if roa_directo else (roa_manual/100 if 'roa_manual' in locals() else None)\n",
        "    if roa_evaluar:\n",
        "        if roa_evaluar > 0.08:\n",
        "            eval_roa = \"✅ EXCELENTE ( >8%)\"\n",
        "        elif roa_evaluar > 0.05:\n",
        "            eval_roa = \"⚠️ BUENO (5-8%)\"\n",
        "        elif roa_evaluar > 0.03:\n",
        "            eval_roa = \"🔶 MODESTO (3-5%)\"\n",
        "        else:\n",
        "            eval_roa = \"❌ BAJO ( <3%)\"\n",
        "    else:\n",
        "        eval_roa = \"📊 NO DISPONIBLE\"\n",
        "\n",
        "    print(f\"   ROE: {eval_roe}\")\n",
        "    print(f\"   ROA: {eval_roa}\")\n",
        "\n",
        "    # ROI más reciente\n",
        "    roi_reciente = next((v for k, v in resultados_roi.items() if v is not None), None)\n",
        "    if roi_reciente:\n",
        "        if roi_reciente > 15:\n",
        "            eval_roi = \"✅ ALTO\"\n",
        "        elif roi_reciente > 5:\n",
        "            eval_roi = \"⚠️ MODERADO\"\n",
        "        else:\n",
        "            eval_roi = \"🔶 BAJO\"\n",
        "        print(f\"   ROI reciente: {eval_roi}\")\n",
        "\n",
        "    print(\"\\n\" + \"=\" * 70)\n",
        "    print(\"🎯 ANÁLISIS COMPLETADO - Lockheed Martin (LMT)\")\n",
        "    print(\"=\" * 70)\n",
        "\n",
        "# EJECUTAR ANÁLISIS COMPLETO\n",
        "if __name__ == \"__main__\":\n",
        "    analisis_completo_lmt()\n",
        "\n",
        "    # Opcional: Guardar resultados en CSV\n",
        "    print(\"\\n💾 ¿Quieres guardar los resultados en un archivo CSV?\")\n",
        "    print(\"   (Esta funcionalidad se puede agregar si es necesario)\")"
      ],
      "metadata": {
        "colab": {
          "base_uri": "https://localhost:8080/"
        },
        "id": "Wk8QL8vNjwYk",
        "outputId": "315ac0bd-7cb9-4103-986f-03226f0c8d2b"
      },
      "execution_count": null,
      "outputs": [
        {
          "output_type": "stream",
          "name": "stdout",
          "text": [
            "🔍 ANÁLISIS COMPLETO - LOCKHEED MARTIN (LMT)\n",
            "======================================================================\n",
            "\n",
            "1. 📊 INFORMACIÓN GENERAL\n",
            "----------------------------------------\n",
            "Empresa: Lockheed Martin Corporation\n",
            "Sector: Industrials\n",
            "Industria: Aerospace & Defense\n",
            "Precio actual: $499.21\n",
            "Market Cap: $116.55B\n",
            "\n",
            "2. 📈 ANÁLISIS DE ROI (Return on Investment)\n",
            "----------------------------------------\n"
          ]
        },
        {
          "output_type": "stream",
          "name": "stderr",
          "text": [
            "[*********************100%***********************]  1 of 1 completed\n",
            "[*********************100%***********************]  1 of 1 completed"
          ]
        },
        {
          "output_type": "stream",
          "name": "stdout",
          "text": [
            "   Último mes:\n",
            "   Último mes: Error - unsupported format string passed to Series.__format__\n"
          ]
        },
        {
          "output_type": "stream",
          "name": "stderr",
          "text": [
            "\n"
          ]
        },
        {
          "output_type": "stream",
          "name": "stdout",
          "text": [
            "   YTD (Año actual):\n",
            "   YTD (Año actual): Error - unsupported format string passed to Series.__format__\n"
          ]
        },
        {
          "output_type": "stream",
          "name": "stderr",
          "text": [
            "\r[*********************100%***********************]  1 of 1 completed\n"
          ]
        },
        {
          "output_type": "stream",
          "name": "stdout",
          "text": [
            "   Último año:\n",
            "   Último año: Error - unsupported format string passed to Series.__format__\n"
          ]
        },
        {
          "output_type": "stream",
          "name": "stderr",
          "text": [
            "\r[*********************100%***********************]  1 of 1 completed\n"
          ]
        },
        {
          "output_type": "stream",
          "name": "stdout",
          "text": [
            "   Últimos 3 años:\n",
            "   Últimos 3 años: Error - unsupported format string passed to Series.__format__\n",
            "\n",
            "3. 💰 ANÁLISIS DE RENTABILIDAD (ROE y ROA)\n",
            "----------------------------------------\n",
            "   MÉTODO DIRECTO (yfinance):\n",
            "     • ROE (Return on Equity): 73.06%\n",
            "     • ROA (Return on Assets): 6.47%\n",
            "\n",
            "   CÁLCULO MANUAL (estados financieros):\n",
            "     • Datos insuficientes para cálculo manual\n",
            "\n",
            "4. 📅 EVOLUCIÓN HISTÓRICA DE ROE/ROA\n",
            "----------------------------------------\n",
            "   Año\t\tROE (%)\t\tROA (%)\t\tNet Income\n",
            "   -------------------------------------------------------\n",
            "   2024\t\t84.3%\t\t9.6%\t\t$5336M\n",
            "   2023\t\t101.2%\t\t13.2%\t\t$6920M\n",
            "   2022\t\t61.9%\t\t10.8%\t\t$5732M\n",
            "   2021\t\t57.6%\t\t12.4%\t\t$6315M\n",
            "\n",
            "5. 🔄 COMPARATIVA CON EMPRESAS DEL SECTOR\n",
            "----------------------------------------\n",
            "   Empresa\t\tROE (%)\t\tROA (%)\t\tDiv Yield\n",
            "   ------------------------------------------------------------\n",
            "   Lockheed Martin\t\t73.1%\t\t6.5%\t\t271.00%\n",
            "   RTX Corporation\t\t10.3%\t\t3.7%\t\t167.00%\n",
            "   Northrop Grumma\t\t26.5%\t\t6.4%\t\t155.00%\n",
            "   General Dynamic\t\t17.9%\t\t5.8%\t\t182.00%\n",
            "   Boeing Company \t\tN/A\t\t-3.7%\t\tN/A\n",
            "\n",
            "6. 💵 ANÁLISIS DE DIVIDENDOS\n",
            "----------------------------------------\n",
            "   • Dividend Yield: 271.00%\n",
            "   • Últimos dividendos por acción:\n",
            "     2024-06-03: $3.15\n",
            "     2024-09-03: $3.15\n",
            "     2024-12-02: $3.30\n",
            "     2025-03-03: $3.30\n",
            "     2025-06-02: $3.30\n",
            "     2025-09-02: $3.30\n",
            "\n",
            "7. 📋 RESUMEN EJECUTIVO\n",
            "----------------------------------------\n",
            "   ROE: ✅ EXCELENTE ( >15%)\n",
            "   ROA: ⚠️ BUENO (5-8%)\n",
            "\n",
            "======================================================================\n",
            "🎯 ANÁLISIS COMPLETADO - Lockheed Martin (LMT)\n",
            "======================================================================\n",
            "\n",
            "💾 ¿Quieres guardar los resultados en un archivo CSV?\n",
            "   (Esta funcionalidad se puede agregar si es necesario)\n"
          ]
        }
      ]
    },
    {
      "cell_type": "code",
      "source": [
        "# Simplemente ejecuta:\n",
        "analisis_completo_lmt()"
      ],
      "metadata": {
        "id": "4dCoQkPWj7s9",
        "outputId": "d3e48015-a43f-4576-8a0e-792499699859",
        "colab": {
          "base_uri": "https://localhost:8080/"
        }
      },
      "execution_count": null,
      "outputs": [
        {
          "output_type": "stream",
          "name": "stdout",
          "text": [
            "🔍 ANÁLISIS COMPLETO - LOCKHEED MARTIN (LMT)\n",
            "======================================================================\n",
            "\n",
            "1. 📊 INFORMACIÓN GENERAL\n",
            "----------------------------------------\n",
            "Empresa: Lockheed Martin Corporation\n",
            "Sector: Industrials\n",
            "Industria: Aerospace & Defense\n",
            "Precio actual: $499.21\n",
            "Market Cap: $116.55B\n",
            "\n",
            "2. 📈 ANÁLISIS DE ROI (Return on Investment)\n",
            "----------------------------------------\n"
          ]
        },
        {
          "output_type": "stream",
          "name": "stderr",
          "text": [
            "[*********************100%***********************]  1 of 1 completed\n",
            "[*********************100%***********************]  1 of 1 completed"
          ]
        },
        {
          "output_type": "stream",
          "name": "stdout",
          "text": [
            "   Último mes:\n",
            "   Último mes: Error - unsupported format string passed to Series.__format__\n"
          ]
        },
        {
          "output_type": "stream",
          "name": "stderr",
          "text": [
            "\n",
            "\r[*********************100%***********************]  1 of 1 completed\n"
          ]
        },
        {
          "output_type": "stream",
          "name": "stdout",
          "text": [
            "   YTD (Año actual):\n",
            "   YTD (Año actual): Error - unsupported format string passed to Series.__format__\n",
            "   Último año:\n",
            "   Último año: Error - unsupported format string passed to Series.__format__\n"
          ]
        },
        {
          "output_type": "stream",
          "name": "stderr",
          "text": [
            "\r[*********************100%***********************]  1 of 1 completed\n"
          ]
        },
        {
          "output_type": "stream",
          "name": "stdout",
          "text": [
            "   Últimos 3 años:\n",
            "   Últimos 3 años: Error - unsupported format string passed to Series.__format__\n",
            "\n",
            "3. 💰 ANÁLISIS DE RENTABILIDAD (ROE y ROA)\n",
            "----------------------------------------\n",
            "   MÉTODO DIRECTO (yfinance):\n",
            "     • ROE (Return on Equity): 73.06%\n",
            "     • ROA (Return on Assets): 6.47%\n",
            "\n",
            "   CÁLCULO MANUAL (estados financieros):\n",
            "     • Datos insuficientes para cálculo manual\n",
            "\n",
            "4. 📅 EVOLUCIÓN HISTÓRICA DE ROE/ROA\n",
            "----------------------------------------\n",
            "   Año\t\tROE (%)\t\tROA (%)\t\tNet Income\n",
            "   -------------------------------------------------------\n",
            "   2024\t\t84.3%\t\t9.6%\t\t$5336M\n",
            "   2023\t\t101.2%\t\t13.2%\t\t$6920M\n",
            "   2022\t\t61.9%\t\t10.8%\t\t$5732M\n",
            "   2021\t\t57.6%\t\t12.4%\t\t$6315M\n",
            "\n",
            "5. 🔄 COMPARATIVA CON EMPRESAS DEL SECTOR\n",
            "----------------------------------------\n",
            "   Empresa\t\tROE (%)\t\tROA (%)\t\tDiv Yield\n",
            "   ------------------------------------------------------------\n",
            "   Lockheed Martin\t\t73.1%\t\t6.5%\t\t271.00%\n",
            "   RTX Corporation\t\t10.3%\t\t3.7%\t\t167.00%\n",
            "   Northrop Grumma\t\t26.5%\t\t6.4%\t\t155.00%\n",
            "   General Dynamic\t\t17.9%\t\t5.8%\t\t182.00%\n",
            "   Boeing Company \t\tN/A\t\t-3.7%\t\tN/A\n",
            "\n",
            "6. 💵 ANÁLISIS DE DIVIDENDOS\n",
            "----------------------------------------\n",
            "   • Dividend Yield: 271.00%\n",
            "   • Últimos dividendos por acción:\n",
            "     2024-06-03: $3.15\n",
            "     2024-09-03: $3.15\n",
            "     2024-12-02: $3.30\n",
            "     2025-03-03: $3.30\n",
            "     2025-06-02: $3.30\n",
            "     2025-09-02: $3.30\n",
            "\n",
            "7. 📋 RESUMEN EJECUTIVO\n",
            "----------------------------------------\n",
            "   ROE: ✅ EXCELENTE ( >15%)\n",
            "   ROA: ⚠️ BUENO (5-8%)\n",
            "\n",
            "======================================================================\n",
            "🎯 ANÁLISIS COMPLETADO - Lockheed Martin (LMT)\n",
            "======================================================================\n"
          ]
        }
      ]
    },
    {
      "cell_type": "code",
      "source": [
        "import yfinance as yf\n",
        "import pandas as pd\n",
        "from datetime import datetime, timedelta\n",
        "import json\n",
        "\"\"\"\n",
        "Obtiene KPIs financieros y precios de rendimientno para una lista de tickers\n",
        "\"\"\"\n",
        "datos_financieros = []\n",
        "for ticker in tickers:\n",
        "  try:\n",
        "    print(f\"Obteniendo datos para {ticker}...\")\n",
        "    #Descargar datos del ticjker\n",
        "    stock=yf.Ticker(ticker)\n",
        "              #Obtener información fundamental\n",
        "    info = stock.info\n",
        "\n",
        "    #Obtener datos históricos de precios (últimos 30 días)\n",
        "    historico = stock.history(period=\"1mo\")\n",
        "\n",
        "    #Calcular rendimientos\n",
        "    if not historico.empty and len(historico) > 1:\n",
        "      precio_actual = historico['Close'].iloc[-1]\n",
        "      precio_anterior = historico['Close'].iloc[-2]\n",
        "      rendimiento_diario = ((prcio_actual - precio_anterior)/precio_anterior)*100\n",
        "\n",
        "      #Rendimiento desde el inicio del periodo\n",
        "      precio_inicial = historico['Close'].iloc[0]\n",
        "      rendimiento_periodo = ((precio_actual - precio_inicial)/precio_inicial)*100\n",
        "    else:\n",
        "      precio_actual = info.get('current')"
      ],
      "metadata": {
        "id": "AHKI8HcwuT3G"
      },
      "execution_count": null,
      "outputs": []
    }
  ]
}